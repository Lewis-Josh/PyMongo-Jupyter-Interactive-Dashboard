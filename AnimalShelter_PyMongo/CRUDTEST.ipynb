{
 "cells": [
  {
   "cell_type": "code",
   "execution_count": null,
   "metadata": {},
   "outputs": [],
   "source": [
    "import __main__\n",
    "import unittest\n",
    "from unittest.mock import patch\n",
    "from AnimalShelter import AnimalShelter\n",
    "\n",
    "class CRUDTEST(unittest.TestCase):\n",
    "    \"\"\"Testing class for AnimalShelter CRUD methods\"\"\"\n",
    "    def setUp(self):\n",
    "        self.shelter = AnimalShelter()\n",
    "        self.data = {\"breed\": \"Test\"}\n",
    "        self.query = {\"breed\": \"Test\"}\n",
    "\n",
    "    def test_create(self):\n",
    "        result = self.shelter.create(self.data)\n",
    "        self.assertTrue(result, \"Failed to create document\")\n",
    "        self.assertIsNotNone(self.shelter.read(self.data), \"Document not found\")\n",
    "\n",
    "    def test_read(self):\n",
    "        self.shelter.create(self.query)\n",
    "        result = self.shelter.read(self.query)\n",
    "        self.assertIsNotNone(result, \"Failed to read document\")\n",
    "\n",
    "    def test_update(self):\n",
    "        newData = {\"breed\": \"Updated\"}\n",
    "        result = self.shelter.update(self.query, newData)\n",
    "        self.assertTrue(result, \"Failed to update document\")\n",
    "        self.shelter.read(newData)\n",
    "\n",
    "    @patch(\"builtins.input\", return_value='y')\n",
    "    def test_delete(self, input):\n",
    "        self.shelter.create(self.query)\n",
    "        result = self.shelter.delete(self.data)\n",
    "        self.assertTrue(result, \"Failed to delete document\")\n",
    "        self.shelter.read(self.data)\n",
    "\n",
    "    @patch(\"builtins.input\", return_value='y')\n",
    "    def test_confirm_deletion(self, input):\n",
    "        result = self.shelter.confirm_deletion()\n",
    "        self.assertTrue(result, \"Failed to confirm deletion\")\n",
    "\n",
    "if __name__ == \"__main__\":\n",
    "    unittest.main(argv=['first-arg-is-ignored'], exit=False)\n"
   ]
  },
  {
   "cell_type": "code",
   "execution_count": 1,
   "metadata": {},
   "outputs": [
    {
     "name": "stderr",
     "output_type": "stream",
     "text": [
      ".\n",
      "----------------------------------------------------------------------\n",
      "Ran 1 test in 0.437s\n",
      "\n",
      "OK\n"
     ]
    }
   ],
   "source": [
    "import __main__\n",
    "import unittest\n",
    "from AnimalShelter import AnimalShelter\n",
    "\n",
    "class CRUDTEST(unittest.TestCase):\n",
    "    \"\"\"Testing class for AnimalShelter CRUD methods\"\"\"\n",
    "    def setUp(self):\n",
    "        self.shelter = AnimalShelter()\n",
    "        self.data = {\"breed\": \"Test\"}\n",
    "        self.query = {\"breed\": \"Test\"}\n",
    "\n",
    "    def test_create(self):\n",
    "        result = self.shelter.create(self.data)\n",
    "        self.assertTrue(result, \"Failed to create document\")\n",
    "        self.assertIsNotNone(self.shelter.read(self.data), \"Document not found\")\n",
    "\n",
    "if __name__ == \"__main__\":\n",
    "    unittest.main(argv=['first-arg-is-ignored'], exit=False)"
   ]
  },
  {
   "cell_type": "code",
   "execution_count": 2,
   "metadata": {},
   "outputs": [
    {
     "name": "stderr",
     "output_type": "stream",
     "text": [
      ".\n",
      "----------------------------------------------------------------------\n",
      "Ran 1 test in 0.416s\n",
      "\n",
      "OK\n"
     ]
    },
    {
     "name": "stdout",
     "output_type": "stream",
     "text": [
      "Modified count: 1\n"
     ]
    }
   ],
   "source": [
    "import __main__\n",
    "import unittest\n",
    "from AnimalShelter import AnimalShelter\n",
    "\n",
    "class CRUDTEST(unittest.TestCase):\n",
    "    \"\"\"Testing class for AnimalShelter CRUD methods\"\"\"\n",
    "    def setUp(self):\n",
    "        self.shelter = AnimalShelter()\n",
    "        self.data = {\"breed\": \"Test\"}\n",
    "        self.query = {\"breed\": \"Test\"}\n",
    "\n",
    "    def test_update(self):\n",
    "        newData = {\"breed\": \"Updated\"}\n",
    "        result = self.shelter.update(self.query, newData)\n",
    "        self.assertTrue(result, \"Failed to update document\")\n",
    "        self.shelter.read(newData)\n",
    "\n",
    "if __name__ == \"__main__\":\n",
    "    unittest.main(argv=['first-arg-is-ignored'], exit=False)"
   ]
  }
 ],
 "metadata": {
  "kernelspec": {
   "display_name": "Python 3",
   "language": "python",
   "name": "python3"
  },
  "language_info": {
   "codemirror_mode": {
    "name": "ipython",
    "version": 3
   },
   "file_extension": ".py",
   "mimetype": "text/x-python",
   "name": "python",
   "nbconvert_exporter": "python",
   "pygments_lexer": "ipython3",
   "version": "3.11.9"
  }
 },
 "nbformat": 4,
 "nbformat_minor": 2
}
